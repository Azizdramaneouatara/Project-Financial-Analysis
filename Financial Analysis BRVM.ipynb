{
 "cells": [
  {
   "cell_type": "markdown",
   "id": "47b45e10-5ab3-4832-8e82-6ad2c7484fcb",
   "metadata": {},
   "source": [
    "Dramane Aziz | Finance Addict\n",
    "\n",
    "---\n"
   ]
  },
  {
   "cell_type": "markdown",
   "id": "0f70d96b-4066-4446-b380-002e803b1e6d",
   "metadata": {},
   "source": [
    "# ANALYSE DES DONNEES BOURSIERES DE LA BRVM "
   ]
  },
  {
   "cell_type": "markdown",
   "id": "be80a7ad-861e-4d8e-9f4c-8bab29e1de63",
   "metadata": {},
   "source": [
    "|  |  |\n",
    "|:---|:---|\n",
    "|**Temps de Lecture** |  60 minutes |\n",
    "|**Outils utilisés** | Python, Algèbre,Statistique|\n",
    "|**Mots clés** | BRVM,Finance,Rendement,Risque, Portefeuille|\n",
    "\n",
    "---"
   ]
  },
  {
   "cell_type": "markdown",
   "id": "968ec892-a897-467d-b215-d9922b286ff1",
   "metadata": {},
   "source": [
    "La BRVM (Bourse Régionale des Valeurs Mobilières) est la bourse commune aux huit pays de l’UEMOA (Côte d’Ivoire, Sénégal, Burkina Faso, Mali, Bénin, Togo, Niger et Guinée-Bissau). Basée à Abidjan, elle permet la cotation et les échanges d’actions et d’obligations des entreprises et des États de la région. C’est la seule bourse au monde partagée par plusieurs pays, et elle joue un rôle central dans le financement des économies ouest-africaines en reliant l’épargne des investisseurs aux besoins de financement des acteurs publics et privés. Elle a une importance cruciale dans nos économies. Comprendre les données des entreprises cotées à la BRVM est essentiel, non seulement pour les investisseurs afin d’orienter leurs décisions, mais aussi pour les entreprises elles-mêmes afin d’atteindre leurs objectifs."
   ]
  },
  {
   "cell_type": "markdown",
   "id": "a322dcdb-f097-4876-ade2-21a5becc7875",
   "metadata": {},
   "source": [
    "### Importer les Librairies requises pour l'analyse des données."
   ]
  },
  {
   "cell_type": "code",
   "execution_count": 147,
   "id": "f86b5e39-6b94-4326-b103-81945b2e259b",
   "metadata": {},
   "outputs": [],
   "source": [
    "import datetime\n",
    "import matplotlib.pyplot as plt\n",
    "import numpy as np\n",
    "import pandas as pd\n",
    "import seaborn as sns\n",
    "from datetime import date\n",
    "import os\n",
    "\n",
    "pd.options.display.float_format = \"{:,.2f}\".format"
   ]
  },
  {
   "cell_type": "markdown",
   "id": "19287ebd-668f-46c2-934a-54b7db4b927f",
   "metadata": {},
   "source": [
    "## **1. Charger les données de la CIE , FILTISAC ainsi CFAO-CI**\n"
   ]
  },
  {
   "cell_type": "code",
   "execution_count": 12,
   "id": "b3a76eea-0717-4f78-a665-823bd95d2dba",
   "metadata": {},
   "outputs": [
    {
     "data": {
      "text/html": [
       "<div>\n",
       "<style scoped>\n",
       "    .dataframe tbody tr th:only-of-type {\n",
       "        vertical-align: middle;\n",
       "    }\n",
       "\n",
       "    .dataframe tbody tr th {\n",
       "        vertical-align: top;\n",
       "    }\n",
       "\n",
       "    .dataframe thead th {\n",
       "        text-align: right;\n",
       "    }\n",
       "</style>\n",
       "<table border=\"1\" class=\"dataframe\">\n",
       "  <thead>\n",
       "    <tr style=\"text-align: right;\">\n",
       "      <th></th>\n",
       "      <th>Date</th>\n",
       "      <th>CIE</th>\n",
       "    </tr>\n",
       "  </thead>\n",
       "  <tbody>\n",
       "    <tr>\n",
       "      <th>0</th>\n",
       "      <td>2025-09-19</td>\n",
       "      <td>2.38</td>\n",
       "    </tr>\n",
       "    <tr>\n",
       "      <th>1</th>\n",
       "      <td>2025-09-18</td>\n",
       "      <td>2.40</td>\n",
       "    </tr>\n",
       "    <tr>\n",
       "      <th>2</th>\n",
       "      <td>2025-09-17</td>\n",
       "      <td>2.40</td>\n",
       "    </tr>\n",
       "    <tr>\n",
       "      <th>3</th>\n",
       "      <td>2025-09-16</td>\n",
       "      <td>2.40</td>\n",
       "    </tr>\n",
       "    <tr>\n",
       "      <th>4</th>\n",
       "      <td>2025-09-15</td>\n",
       "      <td>2.40</td>\n",
       "    </tr>\n",
       "  </tbody>\n",
       "</table>\n",
       "</div>"
      ],
      "text/plain": [
       "        Date  CIE\n",
       "0 2025-09-19 2.38\n",
       "1 2025-09-18 2.40\n",
       "2 2025-09-17 2.40\n",
       "3 2025-09-16 2.40\n",
       "4 2025-09-15 2.40"
      ]
     },
     "execution_count": 12,
     "metadata": {},
     "output_type": "execute_result"
    }
   ],
   "source": [
    "#importer les données de la CIE et garder juste la prix de cloture\n",
    "CIE= pd.read_csv(\"Downloads/Project Worldquant/Data/CIEC - Données Historiques.csv\")\n",
    "#Garder juste les deux premières colonnes \n",
    "CIE= CIE[[\"Date\",\"Dernier\"]]\n",
    "#Renommer les colonnes\n",
    "CIE.columns =[\"Date\",\"CIE\"]\n",
    "#Reformater la date\n",
    "CIE.Date= pd.to_datetime(CIE['Date'],dayfirst=True)\n",
    "CIE.head()"
   ]
  },
  {
   "cell_type": "code",
   "execution_count": 13,
   "id": "842ec10a-048a-41bd-a62b-2e4e808d03f8",
   "metadata": {},
   "outputs": [
    {
     "data": {
      "text/html": [
       "<div>\n",
       "<style scoped>\n",
       "    .dataframe tbody tr th:only-of-type {\n",
       "        vertical-align: middle;\n",
       "    }\n",
       "\n",
       "    .dataframe tbody tr th {\n",
       "        vertical-align: top;\n",
       "    }\n",
       "\n",
       "    .dataframe thead th {\n",
       "        text-align: right;\n",
       "    }\n",
       "</style>\n",
       "<table border=\"1\" class=\"dataframe\">\n",
       "  <thead>\n",
       "    <tr style=\"text-align: right;\">\n",
       "      <th></th>\n",
       "      <th>Date</th>\n",
       "      <th>FTSC</th>\n",
       "    </tr>\n",
       "  </thead>\n",
       "  <tbody>\n",
       "    <tr>\n",
       "      <th>0</th>\n",
       "      <td>2025-09-19</td>\n",
       "      <td>4.60</td>\n",
       "    </tr>\n",
       "    <tr>\n",
       "      <th>1</th>\n",
       "      <td>2025-09-18</td>\n",
       "      <td>4.63</td>\n",
       "    </tr>\n",
       "    <tr>\n",
       "      <th>2</th>\n",
       "      <td>2025-09-17</td>\n",
       "      <td>4.61</td>\n",
       "    </tr>\n",
       "    <tr>\n",
       "      <th>3</th>\n",
       "      <td>2025-09-16</td>\n",
       "      <td>4.60</td>\n",
       "    </tr>\n",
       "    <tr>\n",
       "      <th>4</th>\n",
       "      <td>2025-09-15</td>\n",
       "      <td>4.76</td>\n",
       "    </tr>\n",
       "  </tbody>\n",
       "</table>\n",
       "</div>"
      ],
      "text/plain": [
       "        Date  FTSC\n",
       "0 2025-09-19  4.60\n",
       "1 2025-09-18  4.63\n",
       "2 2025-09-17  4.61\n",
       "3 2025-09-16  4.60\n",
       "4 2025-09-15  4.76"
      ]
     },
     "execution_count": 13,
     "metadata": {},
     "output_type": "execute_result"
    }
   ],
   "source": [
    "#importer les données de Filtisac\n",
    "FTSC= pd.read_csv(\"Downloads/Project Worldquant/Data/FTSC - Données Historiques.csv\")\n",
    "#Garder juste les deux premières colonnes \n",
    "FTSC= FTSC[[\"Date\",\"Dernier\"]]\n",
    "#Renommer les colonnes\n",
    "FTSC.columns =[\"Date\",\"FTSC\"]\n",
    "#Reformater la date\n",
    "FTSC.Date= pd.to_datetime(FTSC['Date'],dayfirst=True)\n",
    "FTSC.head()"
   ]
  },
  {
   "cell_type": "code",
   "execution_count": 14,
   "id": "4c2fcbb1-a661-49c1-82c0-7a8739bd2443",
   "metadata": {},
   "outputs": [
    {
     "data": {
      "text/html": [
       "<div>\n",
       "<style scoped>\n",
       "    .dataframe tbody tr th:only-of-type {\n",
       "        vertical-align: middle;\n",
       "    }\n",
       "\n",
       "    .dataframe tbody tr th {\n",
       "        vertical-align: top;\n",
       "    }\n",
       "\n",
       "    .dataframe thead th {\n",
       "        text-align: right;\n",
       "    }\n",
       "</style>\n",
       "<table border=\"1\" class=\"dataframe\">\n",
       "  <thead>\n",
       "    <tr style=\"text-align: right;\">\n",
       "      <th></th>\n",
       "      <th>Date</th>\n",
       "      <th>CFAC</th>\n",
       "    </tr>\n",
       "  </thead>\n",
       "  <tbody>\n",
       "    <tr>\n",
       "      <th>0</th>\n",
       "      <td>2025-09-19</td>\n",
       "      <td>955.00</td>\n",
       "    </tr>\n",
       "    <tr>\n",
       "      <th>1</th>\n",
       "      <td>2025-09-18</td>\n",
       "      <td>940.00</td>\n",
       "    </tr>\n",
       "    <tr>\n",
       "      <th>2</th>\n",
       "      <td>2025-09-17</td>\n",
       "      <td>940.00</td>\n",
       "    </tr>\n",
       "    <tr>\n",
       "      <th>3</th>\n",
       "      <td>2025-09-16</td>\n",
       "      <td>950.00</td>\n",
       "    </tr>\n",
       "    <tr>\n",
       "      <th>4</th>\n",
       "      <td>2025-09-15</td>\n",
       "      <td>945.00</td>\n",
       "    </tr>\n",
       "  </tbody>\n",
       "</table>\n",
       "</div>"
      ],
      "text/plain": [
       "        Date   CFAC\n",
       "0 2025-09-19 955.00\n",
       "1 2025-09-18 940.00\n",
       "2 2025-09-17 940.00\n",
       "3 2025-09-16 950.00\n",
       "4 2025-09-15 945.00"
      ]
     },
     "execution_count": 14,
     "metadata": {},
     "output_type": "execute_result"
    }
   ],
   "source": [
    "#importer les données de CFAO CI\n",
    "CFAC= pd.read_csv(\"Downloads/Project Worldquant/Data/CFAC - Données Historiques.csv\")\n",
    "#Garder juste les deux premières colonnes \n",
    "CFAC= CFAC[[\"Date\",\"Dernier\"]]\n",
    "#Renommer les colonnes\n",
    "CFAC.columns =[\"Date\",\"CFAC\"]\n",
    "#Reformater la date\n",
    "CFAC.Date= pd.to_datetime(CFAC['Date'],dayfirst=True)\n",
    "CFAC.head()"
   ]
  },
  {
   "cell_type": "markdown",
   "id": "79c6128e-c9ec-4c3d-b94e-27df773993aa",
   "metadata": {},
   "source": [
    "## **2. Joindre les données de la CIE , FILTISAC ainsi CFAO-CI**\n"
   ]
  },
  {
   "cell_type": "code",
   "execution_count": 16,
   "id": "8bc025e7-2fa3-4185-97e7-23a140b3c3f6",
   "metadata": {},
   "outputs": [
    {
     "data": {
      "text/html": [
       "<div>\n",
       "<style scoped>\n",
       "    .dataframe tbody tr th:only-of-type {\n",
       "        vertical-align: middle;\n",
       "    }\n",
       "\n",
       "    .dataframe tbody tr th {\n",
       "        vertical-align: top;\n",
       "    }\n",
       "\n",
       "    .dataframe thead th {\n",
       "        text-align: right;\n",
       "    }\n",
       "</style>\n",
       "<table border=\"1\" class=\"dataframe\">\n",
       "  <thead>\n",
       "    <tr style=\"text-align: right;\">\n",
       "      <th></th>\n",
       "      <th>CIE</th>\n",
       "      <th>CFAC</th>\n",
       "      <th>FTSC</th>\n",
       "    </tr>\n",
       "    <tr>\n",
       "      <th>Date</th>\n",
       "      <th></th>\n",
       "      <th></th>\n",
       "      <th></th>\n",
       "    </tr>\n",
       "  </thead>\n",
       "  <tbody>\n",
       "    <tr>\n",
       "      <th>2025-09-19</th>\n",
       "      <td>2.38</td>\n",
       "      <td>955.00</td>\n",
       "      <td>4.60</td>\n",
       "    </tr>\n",
       "    <tr>\n",
       "      <th>2025-09-18</th>\n",
       "      <td>2.40</td>\n",
       "      <td>940.00</td>\n",
       "      <td>4.63</td>\n",
       "    </tr>\n",
       "    <tr>\n",
       "      <th>2025-09-17</th>\n",
       "      <td>2.40</td>\n",
       "      <td>940.00</td>\n",
       "      <td>4.61</td>\n",
       "    </tr>\n",
       "    <tr>\n",
       "      <th>2025-09-16</th>\n",
       "      <td>2.40</td>\n",
       "      <td>950.00</td>\n",
       "      <td>4.60</td>\n",
       "    </tr>\n",
       "    <tr>\n",
       "      <th>2025-09-15</th>\n",
       "      <td>2.40</td>\n",
       "      <td>945.00</td>\n",
       "      <td>4.76</td>\n",
       "    </tr>\n",
       "  </tbody>\n",
       "</table>\n",
       "</div>"
      ],
      "text/plain": [
       "            CIE   CFAC  FTSC\n",
       "Date                        \n",
       "2025-09-19 2.38 955.00  4.60\n",
       "2025-09-18 2.40 940.00  4.63\n",
       "2025-09-17 2.40 940.00  4.61\n",
       "2025-09-16 2.40 950.00  4.60\n",
       "2025-09-15 2.40 945.00  4.76"
      ]
     },
     "execution_count": 16,
     "metadata": {},
     "output_type": "execute_result"
    }
   ],
   "source": [
    "BRVM=CIE.merge(CFAC, how='left', on='Date').merge(FTSC,how='left',on='Date')\n",
    "BRVM=BRVM.set_index((BRVM['Date']))\n",
    "BRVM=BRVM[[\"CIE\",\"CFAC\",\"FTSC\"]]\n",
    "BRVM.head()"
   ]
  },
  {
   "cell_type": "code",
   "execution_count": 17,
   "id": "6c9e1511-e267-4e5f-95c8-87202847cb39",
   "metadata": {},
   "outputs": [
    {
     "data": {
      "text/html": [
       "<div>\n",
       "<style scoped>\n",
       "    .dataframe tbody tr th:only-of-type {\n",
       "        vertical-align: middle;\n",
       "    }\n",
       "\n",
       "    .dataframe tbody tr th {\n",
       "        vertical-align: top;\n",
       "    }\n",
       "\n",
       "    .dataframe thead th {\n",
       "        text-align: right;\n",
       "    }\n",
       "</style>\n",
       "<table border=\"1\" class=\"dataframe\">\n",
       "  <thead>\n",
       "    <tr style=\"text-align: right;\">\n",
       "      <th></th>\n",
       "      <th>CIE</th>\n",
       "      <th>CFAC</th>\n",
       "      <th>FTSC</th>\n",
       "    </tr>\n",
       "    <tr>\n",
       "      <th>Date</th>\n",
       "      <th></th>\n",
       "      <th></th>\n",
       "      <th></th>\n",
       "    </tr>\n",
       "  </thead>\n",
       "  <tbody>\n",
       "    <tr>\n",
       "      <th>2025-09-19</th>\n",
       "      <td>2,385.00</td>\n",
       "      <td>955.00</td>\n",
       "      <td>4,600.00</td>\n",
       "    </tr>\n",
       "    <tr>\n",
       "      <th>2025-09-18</th>\n",
       "      <td>2,395.00</td>\n",
       "      <td>940.00</td>\n",
       "      <td>4,635.00</td>\n",
       "    </tr>\n",
       "    <tr>\n",
       "      <th>2025-09-17</th>\n",
       "      <td>2,395.00</td>\n",
       "      <td>940.00</td>\n",
       "      <td>4,610.00</td>\n",
       "    </tr>\n",
       "    <tr>\n",
       "      <th>2025-09-16</th>\n",
       "      <td>2,395.00</td>\n",
       "      <td>950.00</td>\n",
       "      <td>4,600.00</td>\n",
       "    </tr>\n",
       "    <tr>\n",
       "      <th>2025-09-15</th>\n",
       "      <td>2,395.00</td>\n",
       "      <td>945.00</td>\n",
       "      <td>4,760.00</td>\n",
       "    </tr>\n",
       "    <tr>\n",
       "      <th>...</th>\n",
       "      <td>...</td>\n",
       "      <td>...</td>\n",
       "      <td>...</td>\n",
       "    </tr>\n",
       "    <tr>\n",
       "      <th>2021-01-08</th>\n",
       "      <td>1,300.00</td>\n",
       "      <td>360.00</td>\n",
       "      <td>1,450.00</td>\n",
       "    </tr>\n",
       "    <tr>\n",
       "      <th>2021-01-07</th>\n",
       "      <td>1,345.00</td>\n",
       "      <td>360.00</td>\n",
       "      <td>1,450.00</td>\n",
       "    </tr>\n",
       "    <tr>\n",
       "      <th>2021-01-06</th>\n",
       "      <td>1,375.00</td>\n",
       "      <td>360.00</td>\n",
       "      <td>1,485.00</td>\n",
       "    </tr>\n",
       "    <tr>\n",
       "      <th>2021-01-05</th>\n",
       "      <td>1,385.00</td>\n",
       "      <td>360.00</td>\n",
       "      <td>NaN</td>\n",
       "    </tr>\n",
       "    <tr>\n",
       "      <th>2021-01-04</th>\n",
       "      <td>1,450.00</td>\n",
       "      <td>375.00</td>\n",
       "      <td>1,605.00</td>\n",
       "    </tr>\n",
       "  </tbody>\n",
       "</table>\n",
       "<p>1172 rows × 3 columns</p>\n",
       "</div>"
      ],
      "text/plain": [
       "                CIE   CFAC     FTSC\n",
       "Date                               \n",
       "2025-09-19 2,385.00 955.00 4,600.00\n",
       "2025-09-18 2,395.00 940.00 4,635.00\n",
       "2025-09-17 2,395.00 940.00 4,610.00\n",
       "2025-09-16 2,395.00 950.00 4,600.00\n",
       "2025-09-15 2,395.00 945.00 4,760.00\n",
       "...             ...    ...      ...\n",
       "2021-01-08 1,300.00 360.00 1,450.00\n",
       "2021-01-07 1,345.00 360.00 1,450.00\n",
       "2021-01-06 1,375.00 360.00 1,485.00\n",
       "2021-01-05 1,385.00 360.00      NaN\n",
       "2021-01-04 1,450.00 375.00 1,605.00\n",
       "\n",
       "[1172 rows x 3 columns]"
      ]
     },
     "execution_count": 17,
     "metadata": {},
     "output_type": "execute_result"
    }
   ],
   "source": [
    "#Attribuer les vrais prix \n",
    "BRVM[[\"CIE\",\"FTSC\"]]=BRVM[[\"CIE\",\"FTSC\"]]*1000\n",
    "#Print\n",
    "BRVM"
   ]
  },
  {
   "cell_type": "markdown",
   "id": "e430cdca-7b8a-415e-bb18-eaea139ba120",
   "metadata": {},
   "source": [
    "## **3. Resume statistique données de la CIE , FILTISAC ainsi CFAO-CI**\n"
   ]
  },
  {
   "cell_type": "markdown",
   "id": "cd839480-2741-4962-9eb7-920a7df73498",
   "metadata": {},
   "source": [
    "Nos Stastiques descriptivent nous montrent Premièrement que nous avons des données manquantes au niveau de FILTISAC et CFAO-CI. En ce qui\n",
    "concerne la valeur de ses actifs nous pouvons observer que la CIE a un prix moyen plus élévé que celui des deux autres entreprises ,cependant\n",
    "le prix brut n'est pas un outils adéquat pour l'analyse de nos diffrents actifs. Ainsi nous utiliserons leur rendements afin de les comparer dans \n",
    "la suite de notre analyse."
   ]
  },
  {
   "cell_type": "code",
   "execution_count": 20,
   "id": "db7cae63-1c8e-4676-bf9d-da22a80c46d1",
   "metadata": {},
   "outputs": [
    {
     "data": {
      "text/html": [
       "<div>\n",
       "<style scoped>\n",
       "    .dataframe tbody tr th:only-of-type {\n",
       "        vertical-align: middle;\n",
       "    }\n",
       "\n",
       "    .dataframe tbody tr th {\n",
       "        vertical-align: top;\n",
       "    }\n",
       "\n",
       "    .dataframe thead th {\n",
       "        text-align: right;\n",
       "    }\n",
       "</style>\n",
       "<table border=\"1\" class=\"dataframe\">\n",
       "  <thead>\n",
       "    <tr style=\"text-align: right;\">\n",
       "      <th></th>\n",
       "      <th>CIE</th>\n",
       "      <th>CFAC</th>\n",
       "      <th>FTSC</th>\n",
       "    </tr>\n",
       "  </thead>\n",
       "  <tbody>\n",
       "    <tr>\n",
       "      <th>count</th>\n",
       "      <td>1,172.00</td>\n",
       "      <td>1,149.00</td>\n",
       "      <td>1,148.00</td>\n",
       "    </tr>\n",
       "    <tr>\n",
       "      <th>mean</th>\n",
       "      <td>2,022.39</td>\n",
       "      <td>638.91</td>\n",
       "      <td>1,845.95</td>\n",
       "    </tr>\n",
       "    <tr>\n",
       "      <th>std</th>\n",
       "      <td>284.30</td>\n",
       "      <td>277.92</td>\n",
       "      <td>970.76</td>\n",
       "    </tr>\n",
       "    <tr>\n",
       "      <th>min</th>\n",
       "      <td>1,300.00</td>\n",
       "      <td>1.00</td>\n",
       "      <td>1,075.00</td>\n",
       "    </tr>\n",
       "    <tr>\n",
       "      <th>25%</th>\n",
       "      <td>1,883.75</td>\n",
       "      <td>600.00</td>\n",
       "      <td>1,300.00</td>\n",
       "    </tr>\n",
       "    <tr>\n",
       "      <th>50%</th>\n",
       "      <td>2,050.00</td>\n",
       "      <td>700.00</td>\n",
       "      <td>1,520.00</td>\n",
       "    </tr>\n",
       "    <tr>\n",
       "      <th>75%</th>\n",
       "      <td>2,200.00</td>\n",
       "      <td>840.00</td>\n",
       "      <td>1,906.25</td>\n",
       "    </tr>\n",
       "    <tr>\n",
       "      <th>max</th>\n",
       "      <td>2,800.00</td>\n",
       "      <td>970.00</td>\n",
       "      <td>6,515.00</td>\n",
       "    </tr>\n",
       "  </tbody>\n",
       "</table>\n",
       "</div>"
      ],
      "text/plain": [
       "           CIE     CFAC     FTSC\n",
       "count 1,172.00 1,149.00 1,148.00\n",
       "mean  2,022.39   638.91 1,845.95\n",
       "std     284.30   277.92   970.76\n",
       "min   1,300.00     1.00 1,075.00\n",
       "25%   1,883.75   600.00 1,300.00\n",
       "50%   2,050.00   700.00 1,520.00\n",
       "75%   2,200.00   840.00 1,906.25\n",
       "max   2,800.00   970.00 6,515.00"
      ]
     },
     "execution_count": 20,
     "metadata": {},
     "output_type": "execute_result"
    }
   ],
   "source": [
    "BRVM.describe()"
   ]
  },
  {
   "cell_type": "markdown",
   "id": "88b27b55-e566-4183-b833-43f6f81e0ec0",
   "metadata": {},
   "source": [
    "## **3. Visualisation des données de la CIE , FILTISAC ainsi CFAO-CI**\n"
   ]
  },
  {
   "cell_type": "code",
   "execution_count": 22,
   "id": "19d0fd99-9ee4-4a9f-bdbb-db9037fbb74f",
   "metadata": {},
   "outputs": [
    {
     "data": {
      "text/html": [
       "<div>\n",
       "<style scoped>\n",
       "    .dataframe tbody tr th:only-of-type {\n",
       "        vertical-align: middle;\n",
       "    }\n",
       "\n",
       "    .dataframe tbody tr th {\n",
       "        vertical-align: top;\n",
       "    }\n",
       "\n",
       "    .dataframe thead th {\n",
       "        text-align: right;\n",
       "    }\n",
       "</style>\n",
       "<table border=\"1\" class=\"dataframe\">\n",
       "  <thead>\n",
       "    <tr style=\"text-align: right;\">\n",
       "      <th></th>\n",
       "      <th>CIE</th>\n",
       "      <th>CFAC</th>\n",
       "      <th>FTSC</th>\n",
       "    </tr>\n",
       "    <tr>\n",
       "      <th>Date</th>\n",
       "      <th></th>\n",
       "      <th></th>\n",
       "      <th></th>\n",
       "    </tr>\n",
       "  </thead>\n",
       "  <tbody>\n",
       "    <tr>\n",
       "      <th>2025-09-19</th>\n",
       "      <td>2,385.00</td>\n",
       "      <td>955.00</td>\n",
       "      <td>4,600.00</td>\n",
       "    </tr>\n",
       "    <tr>\n",
       "      <th>2025-09-18</th>\n",
       "      <td>2,395.00</td>\n",
       "      <td>940.00</td>\n",
       "      <td>4,635.00</td>\n",
       "    </tr>\n",
       "    <tr>\n",
       "      <th>2025-09-17</th>\n",
       "      <td>2,395.00</td>\n",
       "      <td>940.00</td>\n",
       "      <td>4,610.00</td>\n",
       "    </tr>\n",
       "    <tr>\n",
       "      <th>2025-09-16</th>\n",
       "      <td>2,395.00</td>\n",
       "      <td>950.00</td>\n",
       "      <td>4,600.00</td>\n",
       "    </tr>\n",
       "    <tr>\n",
       "      <th>2025-09-15</th>\n",
       "      <td>2,395.00</td>\n",
       "      <td>945.00</td>\n",
       "      <td>4,760.00</td>\n",
       "    </tr>\n",
       "    <tr>\n",
       "      <th>...</th>\n",
       "      <td>...</td>\n",
       "      <td>...</td>\n",
       "      <td>...</td>\n",
       "    </tr>\n",
       "    <tr>\n",
       "      <th>2023-01-10</th>\n",
       "      <td>1,900.00</td>\n",
       "      <td>850.00</td>\n",
       "      <td>1,300.00</td>\n",
       "    </tr>\n",
       "    <tr>\n",
       "      <th>2023-01-09</th>\n",
       "      <td>1,900.00</td>\n",
       "      <td>915.00</td>\n",
       "      <td>NaN</td>\n",
       "    </tr>\n",
       "    <tr>\n",
       "      <th>2023-01-06</th>\n",
       "      <td>1,985.00</td>\n",
       "      <td>920.00</td>\n",
       "      <td>1,390.00</td>\n",
       "    </tr>\n",
       "    <tr>\n",
       "      <th>2023-01-05</th>\n",
       "      <td>1,985.00</td>\n",
       "      <td>920.00</td>\n",
       "      <td>1,395.00</td>\n",
       "    </tr>\n",
       "    <tr>\n",
       "      <th>2023-01-04</th>\n",
       "      <td>1,950.00</td>\n",
       "      <td>900.00</td>\n",
       "      <td>1,440.00</td>\n",
       "    </tr>\n",
       "  </tbody>\n",
       "</table>\n",
       "<p>671 rows × 3 columns</p>\n",
       "</div>"
      ],
      "text/plain": [
       "                CIE   CFAC     FTSC\n",
       "Date                               \n",
       "2025-09-19 2,385.00 955.00 4,600.00\n",
       "2025-09-18 2,395.00 940.00 4,635.00\n",
       "2025-09-17 2,395.00 940.00 4,610.00\n",
       "2025-09-16 2,395.00 950.00 4,600.00\n",
       "2025-09-15 2,395.00 945.00 4,760.00\n",
       "...             ...    ...      ...\n",
       "2023-01-10 1,900.00 850.00 1,300.00\n",
       "2023-01-09 1,900.00 915.00      NaN\n",
       "2023-01-06 1,985.00 920.00 1,390.00\n",
       "2023-01-05 1,985.00 920.00 1,395.00\n",
       "2023-01-04 1,950.00 900.00 1,440.00\n",
       "\n",
       "[671 rows x 3 columns]"
      ]
     },
     "execution_count": 22,
     "metadata": {},
     "output_type": "execute_result"
    }
   ],
   "source": [
    "BRVM[BRVM.index[0]: BRVM.index[670]]"
   ]
  },
  {
   "cell_type": "code",
   "execution_count": 31,
   "id": "1a46abc9-9672-4684-858f-9653e3fd1b94",
   "metadata": {},
   "outputs": [
    {
     "data": {
      "image/png": "[encoded data removed]",
      "text/plain": [
       "<Figure size 1300x700 with 3 Axes>"
      ]
     },
     "metadata": {},
     "output_type": "display_data"
    }
   ],
   "source": [
    "\n",
    "fig = plt.figure(figsize=(13,7))\n",
    "ax1 = fig.add_subplot(111)\n",
    "ax2 = ax1.twinx()\n",
    "ax3 = ax1.twinx()\n",
    "\n",
    "#Données des 3 dernières années\n",
    "BRVM[BRVM.index[0]: BRVM.index[670]].plot(ax=ax1, y='CIE', legend=True)\n",
    "BRVM[BRVM.index[0]: BRVM.index[670]].plot(ax=ax2, y='FTSC', legend=True, color='g')\n",
    "BRVM[BRVM.index[0]: BRVM.index[670]].plot(ax=ax3, y='CFAC', legend=True, color='r')\n",
    "\n",
    "# We set the labels to the axes\n",
    "ax1.set_ylabel('CIE')\n",
    "ax2.set_ylabel('FTSC')\n",
    "ax3.set_ylabel('CFAC')\n",
    "ax3.spines['right'].set_position(('outward', 60))\n",
    "\n",
    "# Set position of legends\n",
    "ax1.legend(['CIE'], loc='upper left')\n",
    "ax2.legend(['FTSC'], loc='upper left', bbox_to_anchor=(0, 0.95))\n",
    "ax3.legend(['CFAC'], loc='upper left', bbox_to_anchor=(0, 0.9))\n",
    "\n",
    "plt.show()"
   ]
  },
  {
   "cell_type": "markdown",
   "id": "0b6fa6cd-aa90-4870-8c26-174c47cbf605",
   "metadata": {},
   "source": [
    "## **3. Analyse des rendements**\n"
   ]
  },
  {
   "cell_type": "markdown",
   "id": "a0933fb5-402a-4816-8ce6-c554b03582f3",
   "metadata": {},
   "source": [
    "Comme l'indique le graphique ci-dessus , il n'est pas aisé de comparer les actions de nos 3 entreprises en se basant juste sur le prix.\n",
    "Cela est dû au fait que les prix ne sont pas à la même échelle ainsi pour palier à ce problème nous allons utiliser les rendements.\n",
    "Supposons que Mr Kouamé décide d'investir le **1 Janvier 2021**,  **100 000 XOF** dans chacunes des actions énumérés ci -dessus grâce aux récommendations de son ami Moussa. **2 ans**  après il décide de vérifier combien a t-il pu dégager au cours de son investissement."
   ]
  },
  {
   "cell_type": "code",
   "execution_count": 51,
   "id": "17a8ec95-71c0-4f27-9433-140118e65cc7",
   "metadata": {},
   "outputs": [
    {
     "data": {
      "text/plain": [
       "CIE    1,450.00\n",
       "CFAC     375.00\n",
       "FTSC   1,605.00\n",
       "Name: 2021-01-04 00:00:00, dtype: float64"
      ]
     },
     "execution_count": 51,
     "metadata": {},
     "output_type": "execute_result"
    }
   ],
   "source": [
    "BRVM.iloc[-1]"
   ]
  },
  {
   "cell_type": "code",
   "execution_count": 55,
   "id": "bb4ef1e1-275f-4d4f-8b43-0b1bd57e031e",
   "metadata": {},
   "outputs": [
    {
     "name": "stdout",
     "output_type": "stream",
     "text": [
      "Prix d'achat CIE : 1450.0\n",
      "Prix d'achat FILTISAC: 1605.0\n",
      "Prix d'achat CFAO-CI: 375.0\n",
      " - - - - - - - - - -\n",
      "Nombre de part de la CIE: 68.966\n",
      "Nombre de part de FTSC: 62.305\n",
      "Nombre de part de CFAC: 266.667\n"
     ]
    }
   ],
   "source": [
    "# Prix initial\n",
    "first_row = BRVM.iloc[-1]\n",
    "\n",
    "# Assign price values to variables\n",
    "cie_prix_i = first_row[\"CIE\"]\n",
    "ftsc_prix_i = first_row[\"FTSC\"]\n",
    "cfac_prix_i = first_row[\"CFAC\"]\n",
    "\n",
    "# Afficher les valeurs\n",
    "print(\"Prix d'achat CIE :\", np.round(cie_prix_i, 3))\n",
    "print(\"Prix d'achat FILTISAC:\", np.round(ftsc_prix_i , 3))\n",
    "print(\"Prix d'achat CFAO-CI:\", np.round(cfac_prix_i, 3))\n",
    "print(\" - - - - - - - - - -\")\n",
    "\n",
    "# Determiner le nombre de part achetable\n",
    "part_cie = 100000 / cie_prix_i\n",
    "part_ftsc= 100000 / ftsc_prix_i\n",
    "part_cfac= 100000 / cfac_prix_i\n",
    "\n",
    "# afficher le nombre pour chaque entreprise\n",
    "print(\"Nombre de part de la CIE:\", np.round(part_cie, 3))\n",
    "print(\"Nombre de part de FTSC:\", np.round(part_ftsc, 3))\n",
    "print(\"Nombre de part de CFAC:\", np.round(part_cfac, 3))\n"
   ]
  },
  {
   "cell_type": "code",
   "execution_count": 59,
   "id": "15966b01-b488-41a7-905b-219d860c2b8d",
   "metadata": {},
   "outputs": [
    {
     "name": "stdout",
     "output_type": "stream",
     "text": [
      "Prix de revient CIE : 2385.0\n",
      "Prix de revient FILTISAC: 4600.0\n",
      "Prix de revient CFAO-CI: 955.0\n",
      " - - - - - - - - - -\n",
      "Valeur générée par CIE: 164482.759\n",
      "Valeur générée par FTSC:: 286604.361\n",
      "Valeur générée par CFAC: 254666.667\n"
     ]
    }
   ],
   "source": [
    "# Prix Final\n",
    "first_row = BRVM.iloc[0]\n",
    "\n",
    "# Assign price values to variables\n",
    "cie_prix_f = first_row[\"CIE\"]\n",
    "ftsc_prix_f = first_row[\"FTSC\"]\n",
    "cfac_prix_f = first_row[\"CFAC\"]\n",
    "\n",
    "# Afficher les valeurs\n",
    "print(\"Prix de revient CIE :\", np.round(cie_prix_f, 3))\n",
    "print(\"Prix de revient FILTISAC:\", np.round(ftsc_prix_f , 3))\n",
    "print(\"Prix de revient CFAO-CI:\", np.round(cfac_prix_f, 3))\n",
    "print(\" - - - - - - - - - -\")\n",
    "\n",
    "# Valeur générée par chaque entreprise\n",
    "cie_valeur = cie_prix_f * part_cie \n",
    "ftsc_valeur = ftsc_prix_f * part_ftsc\n",
    "cfac_valeur = cfac_prix_f * part_cfac\n",
    "\n",
    "# Print end date values\n",
    "print(\"Valeur générée par CIE:\", np.round(cie_valeur, 3))\n",
    "print(\"Valeur générée par FTSC::\", np.round(ftsc_valeur, 3))\n",
    "print(\"Valeur générée par CFAC:\", np.round(cfac_valeur, 3))\n",
    "\n",
    "\n"
   ]
  },
  {
   "cell_type": "markdown",
   "id": "3e26b9f9-e725-4695-b97d-e94a2f600c7a",
   "metadata": {},
   "source": [
    "Mr Kouamé a investi 100000 FCFA dans chacune des 3 actions. En se basant sur nos calculs précédent, il apparait que son investissement a eu des rendements différents en fonction de l'action acheté."
   ]
  },
  {
   "cell_type": "code",
   "execution_count": 67,
   "id": "ff089ec6-b5ae-4ffa-9d95-e4f288e95dbb",
   "metadata": {},
   "outputs": [
    {
     "name": "stdout",
     "output_type": "stream",
     "text": [
      "Rendement généré par CIE: 64.5 %\n",
      "Rendement généré  par FTSC:: 186.60000000000002 %\n",
      "Rendement généré  par CFAC: 154.7 %\n"
     ]
    }
   ],
   "source": [
    "#Calcul du rendement simple en captital \n",
    "R_CIE= (cie_valeur- 100000)/100000\n",
    "R_FTSC=(ftsc_valeur- 100000)/100000\n",
    "R_CFAC=(cfac_valeur- 100000)/100000\n",
    "\n",
    "# Print end date values\n",
    "print(\"Rendement généré par CIE:\", np.round(R_CIE, 3)*100,\"%\")\n",
    "print(\"Rendement généré  par FTSC:\", np.round(R_FTSC, 3)*100,\"%\")\n",
    "print(\"Rendement généré  par CFAC:\", np.round(R_CFAC, 3)*100,\"%\")\n",
    "\n"
   ]
  },
  {
   "cell_type": "markdown",
   "id": "8f667c20-514e-4feb-a7c8-fbbc7689f7e7",
   "metadata": {},
   "source": [
    "Il apparait sur la période de 2021 à 2025, les investissements de Mr Kouamé dans chacune ont eu les rendements comme suit:\n",
    " - CIE : 64.5% -> Investissement rentable, mais croissance relativement modérée par rapport aux autres.\r",
    " - FTSC : 186.6% ->C’est l’action la plus performante du portefeuille, presque un triplement de la valeur initiale.\n",
    " - CFAC : 154.7% -> Très bon rendement également, même s’il reste légèrement inférieur à celui de FTSC \n",
    "\n",
    "Cependant, il est important de garder à l’esprit que ces valeurs finales ne reflètent pas toute l’histoire. Pour avoir une vision plus claire de la performance d’un investissement, il faut prendre en compte :\n",
    " - La période : connaître l’horizon d’investissement est essentiel pour évaluer correctement les rendements. Les fluctuations à court terme sont normales, tandis que les tendances à long terme sont plus révélatrices de la performance globale.\n",
    " - Les facteurs externes : la volatilité des marchés, les conditions économiques et les informations spécifiques aux entreprises peuvent influencer de manière significative le prix des actions\n"
   ]
  },
  {
   "cell_type": "markdown",
   "id": "37cdaaf5-a117-4f8e-993f-c3eba0936ee9",
   "metadata": {},
   "source": [
    "## **4. Analyse du risque associé avec chaque investissement**\n"
   ]
  },
  {
   "cell_type": "markdown",
   "id": "3617b9c8-2cab-42f1-8bf8-8ae13b423476",
   "metadata": {},
   "source": [
    "L’analyse du risque associé à chaque investissement est essentielle, car un rendement élevé ne garantit pas toujours une sécurité financière. Chaque actif comporte des incertitudes liées aux fluctuations du marché, à la santé économique de l’entreprise ou encore au contexte macroéconomique. Comprendre ces risques permet à l’investisseur de mieux anticiper les pertes potentielles, d’adapter sa stratégie à sa tolérance au risque et de construire un portefeuille plus équilibré. En somme, évaluer le risque est une étape clé pour prendre des décisions d’investissement éclairées et durables."
   ]
  },
  {
   "cell_type": "code",
   "execution_count": 120,
   "id": "f385b0c7-1e4c-494f-8f73-575e9dcb31a1",
   "metadata": {},
   "outputs": [
    {
     "data": {
      "text/html": [
       "<div>\n",
       "<style scoped>\n",
       "    .dataframe tbody tr th:only-of-type {\n",
       "        vertical-align: middle;\n",
       "    }\n",
       "\n",
       "    .dataframe tbody tr th {\n",
       "        vertical-align: top;\n",
       "    }\n",
       "\n",
       "    .dataframe thead th {\n",
       "        text-align: right;\n",
       "    }\n",
       "</style>\n",
       "<table border=\"1\" class=\"dataframe\">\n",
       "  <thead>\n",
       "    <tr style=\"text-align: right;\">\n",
       "      <th></th>\n",
       "      <th>CIE</th>\n",
       "      <th>CFAC</th>\n",
       "      <th>FTSC</th>\n",
       "    </tr>\n",
       "    <tr>\n",
       "      <th>Date</th>\n",
       "      <th></th>\n",
       "      <th></th>\n",
       "      <th></th>\n",
       "    </tr>\n",
       "  </thead>\n",
       "  <tbody>\n",
       "    <tr>\n",
       "      <th>2025-09-18</th>\n",
       "      <td>0.00</td>\n",
       "      <td>-0.02</td>\n",
       "      <td>0.01</td>\n",
       "    </tr>\n",
       "    <tr>\n",
       "      <th>2025-09-17</th>\n",
       "      <td>0.00</td>\n",
       "      <td>0.00</td>\n",
       "      <td>-0.01</td>\n",
       "    </tr>\n",
       "    <tr>\n",
       "      <th>2025-09-16</th>\n",
       "      <td>0.00</td>\n",
       "      <td>0.01</td>\n",
       "      <td>-0.00</td>\n",
       "    </tr>\n",
       "    <tr>\n",
       "      <th>2025-09-15</th>\n",
       "      <td>0.00</td>\n",
       "      <td>-0.01</td>\n",
       "      <td>0.03</td>\n",
       "    </tr>\n",
       "    <tr>\n",
       "      <th>2025-09-12</th>\n",
       "      <td>-0.01</td>\n",
       "      <td>-0.03</td>\n",
       "      <td>0.01</td>\n",
       "    </tr>\n",
       "  </tbody>\n",
       "</table>\n",
       "</div>"
      ],
      "text/plain": [
       "             CIE  CFAC  FTSC\n",
       "Date                        \n",
       "2025-09-18  0.00 -0.02  0.01\n",
       "2025-09-17  0.00  0.00 -0.01\n",
       "2025-09-16  0.00  0.01 -0.00\n",
       "2025-09-15  0.00 -0.01  0.03\n",
       "2025-09-12 -0.01 -0.03  0.01"
      ]
     },
     "execution_count": 120,
     "metadata": {},
     "output_type": "execute_result"
    }
   ],
   "source": [
    "# CalcuL des rendements avec le Logarithme du prix de chaque action\n",
    "BRVM_R = np.log(BRVM) - np.log(BRVM.shift(1))\n",
    "#Suppresion des valeurs manquantes\n",
    "BRVM_R=BRVM_R.dropna()\n",
    "#Visualistion\n",
    "BRVM_R.head()"
   ]
  },
  {
   "cell_type": "markdown",
   "id": "378f6079-01fe-4448-b58c-5142fe2eeede",
   "metadata": {},
   "source": [
    "L'une des façons de mesurer le risque associé à un investissement en bourse est d'analyser la volatilité de l'actif sur la période de l'analyse.Elle nous permettra de comparer aussi nos différentes actions afin de mieux sélectionner celles qui matchent le plus avec votre profil d'investisseur."
   ]
  },
  {
   "cell_type": "markdown",
   "id": "1c087623-dd9a-48e0-abe2-ea93d11705bc",
   "metadata": {},
   "source": [
    "**Note Importante:**\n",
    "- Ces valeurs sont basées sur des données historiques et ne reflètent pas nécessairement la volatilité future.\n",
    "- La volatilité peut être calculée selon différentes méthodes et sur des périodes variées. Il est essentiel de comprendre la méthode utilisée pour interpréter correctement les résultats.\n",
    "- Comprendre la volatilité est crucial pour évaluer le risque d’un investissement et prendre des décisions éclairées."
   ]
  },
  {
   "cell_type": "code",
   "execution_count": 135,
   "id": "a7370476-cc4a-4854-99cd-1cee7fa3fecb",
   "metadata": {},
   "outputs": [
    {
     "data": {
      "text/plain": [
       "CIE    0.02\n",
       "CFAC   0.30\n",
       "FTSC   0.03\n",
       "dtype: float64"
      ]
     },
     "execution_count": 135,
     "metadata": {},
     "output_type": "execute_result"
    }
   ],
   "source": [
    "#Determination de la volatité de la CIE , FILTISAC, CFAO-CI\n",
    "BRVM_R.std()"
   ]
  },
  {
   "cell_type": "markdown",
   "id": "b23a0c62-f217-4b33-a806-383cca6fce84",
   "metadata": {},
   "source": [
    "- CIE : 0,02 (2 %) → Très faible volatilité, donc l’action est relativement stable et moins risquée.\n",
    "\n",
    "- CFAC : 0,30 (30 %) → Volatilité très élevée, ce qui traduit un risque important et des variations de prix fortes.\n",
    "\n",
    "- FTSC : 0,03 (3 %) → Volatilité faible, proche de celle de la CIE, donc aussi relativement stable.\n",
    "\n"
   ]
  },
  {
   "cell_type": "markdown",
   "id": "4e534953-a5bb-46d8-b4fb-c11343396297",
   "metadata": {},
   "source": [
    "## **5. Conclusion**\n",
    "\n",
    "Cette analyse rélève l'importance de la prise en compte de la volatilité dans la sélection des actions à avoir dans son portefeuille. En se basant sur juste le rendement ,il serait imprudent pour un investisseur comme Mr Kouamé d'ignorer le risque associé avec son investissement. Pendant qu'on oberve un rendement acceptable de plus de 64% avec la CIE, l'analyse de sa volatilité nous montre que c'est un actif qui a été stable sur la période de l'analyse. En ce qui concerne CFAO-CI, il a pu fournir un retour sur investissement de plus de 150% à Mr Kouamé cependant sa forte instabilité oblige a être beaucoup vigilant. Etonnament l'action de Filtisac en plus d'avoir eu le rendement le plus élévé sur la période de l'analyse, elle a montré une étonnante stabilité sur la période de l'analyse ,ce qui suggère qu'elle a fournit un bon rapport risk/rendement à Mr Kouamé par rapport aux autres actions.  "
   ]
  },
  {
   "cell_type": "markdown",
   "id": "8ea5a8ea-06af-4ac6-b0b9-380adef71b6f",
   "metadata": {},
   "source": [
    "**Note Importante:**\n",
    "\n",
    "- Évolution des dynamiques de marché : Les données historiques à long terme peuvent ne pas refléter avec précision les conditions actuelles ou futures du marché. Les changements économiques, les ruptures technologiques, l’intensification de la régulation et les événements géopolitiques peuvent influencer fortement la performance des investissements, rendant les tendances passées moins pertinentes.\n",
    "\n",
    "- Objectifs d’investissement et horizon temporel : Un investisseur avec un horizon court (par exemple, épargner pour un apport immobilier) peut privilégier la performance à court terme plutôt que les tendances à long terme. Sa stratégie et sa tolérance au risque différeront de celles d’une personne ayant un objectif à plus long terme (par exemple, la retraite).\n",
    "\n",
    "- Opportunités manquées : Se concentrer uniquement sur les tendances de long terme peut faire passer à côté d’opportunités à court terme. Les investisseurs actifs ou les traders peuvent tirer parti des fluctuations du marché à court terme pour générer des rendements, même si les perspectives de long terme sont incertaines.\n",
    "\n",
    "- Biais de survie : Les données de long terme souffrent souvent du biais de survie, c’est-à-dire qu’elles incluent uniquement les entreprises ou investissements ayant perduré dans le temps. Cela peut donner une vision faussée de la performance historique, car les investissements ayant échoué ne sont pas pris en compte dans l’analyse.\n",
    "\n",
    "Les informations et analyses présentées dans ce document sont fournies à **titre éducatif** et **informatif uniquement**. Elles ne constituent en aucun cas une recommandation d’investissement, ni un conseil financier personnalisé. Les performances passées ne préjugent pas des performances futures et les investissements comportent toujours des risques, y compris une possible perte en capital. Chaque investisseur est invité à effectuer ses propres recherches et à consulter, si nécessaire, un professionnel qualifié avant toute décision d’investissement."
   ]
  },
  {
   "cell_type": "code",
   "execution_count": null,
   "id": "c68255f7-c08a-4a14-8077-189ae38202b1",
   "metadata": {},
   "outputs": [],
   "source": []
  }
 ],
 "metadata": {
  "kernelspec": {
   "display_name": "Python 3 (ipykernel)",
   "language": "python",
   "name": "python3"
  },
  "language_info": {
   "codemirror_mode": {
    "name": "ipython",
    "version": 3
   },
   "file_extension": ".py",
   "mimetype": "text/x-python",
   "name": "python",
   "nbconvert_exporter": "python",
   "pygments_lexer": "ipython3",
   "version": "3.12.3"
  }
 },
 "nbformat": 4,
 "nbformat_minor": 5
}
